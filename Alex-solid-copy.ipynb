{
 "cells": [
  {
   "cell_type": "markdown",
   "metadata": {},
   "source": [
    "## Alex's Project\n"
   ]
  },
  {
   "cell_type": "markdown",
   "metadata": {},
   "source": [
    "## Pt 1\n",
    " - unpack the data and establish what we're working with\n",
    " - develop a plan for creating the baseline model\n",
    " - prepare data for baseline model\n",
    " - create baseline model\n",
    " - test baseline model\n",
    " "
   ]
  },
  {
   "cell_type": "markdown",
   "metadata": {},
   "source": [
    "### Unpack the data and establish what we're working with"
   ]
  },
  {
   "cell_type": "code",
   "execution_count": 2,
   "metadata": {},
   "outputs": [],
   "source": [
    "#Data analysis imports\n",
    "import pandas as pd\n",
    "import numpy as np\n",
    "import matplotlib.pyplot as plt\n",
    "%matplotlib inline\n",
    "#ignore pairplot and graph warnings\n",
    "import warnings\n",
    "warnings.filterwarnings('ignore')\n",
    "import seaborn as sns\n",
    "from scipy import stats"
   ]
  },
  {
   "cell_type": "code",
   "execution_count": 3,
   "metadata": {},
   "outputs": [
    {
     "name": "stdout",
     "output_type": "stream",
     "text": [
      "column_names.md           kc_house_data.csv         kc_house_data_cleaned.csv\r\n"
     ]
    }
   ],
   "source": [
    "!ls data"
   ]
  },
  {
   "cell_type": "code",
   "execution_count": 4,
   "metadata": {},
   "outputs": [],
   "source": [
    "#Read cleaned housing data into Pandas data frame\n",
    "df = pd.read_csv(\"data/kc_house_data_cleaned.csv\")"
   ]
  },
  {
   "cell_type": "code",
   "execution_count": 5,
   "metadata": {},
   "outputs": [
    {
     "data": {
      "text/html": [
       "<div>\n",
       "<style scoped>\n",
       "    .dataframe tbody tr th:only-of-type {\n",
       "        vertical-align: middle;\n",
       "    }\n",
       "\n",
       "    .dataframe tbody tr th {\n",
       "        vertical-align: top;\n",
       "    }\n",
       "\n",
       "    .dataframe thead th {\n",
       "        text-align: right;\n",
       "    }\n",
       "</style>\n",
       "<table border=\"1\" class=\"dataframe\">\n",
       "  <thead>\n",
       "    <tr style=\"text-align: right;\">\n",
       "      <th></th>\n",
       "      <th>Unnamed: 0</th>\n",
       "      <th>id</th>\n",
       "      <th>date</th>\n",
       "      <th>price</th>\n",
       "      <th>bedrooms</th>\n",
       "      <th>bathrooms</th>\n",
       "      <th>sqft_living</th>\n",
       "      <th>sqft_lot</th>\n",
       "      <th>floors</th>\n",
       "      <th>waterfront</th>\n",
       "      <th>...</th>\n",
       "      <th>sqft_basement</th>\n",
       "      <th>yr_built</th>\n",
       "      <th>yr_renovated</th>\n",
       "      <th>zipcode</th>\n",
       "      <th>lat</th>\n",
       "      <th>long</th>\n",
       "      <th>sqft_living15</th>\n",
       "      <th>sqft_lot15</th>\n",
       "      <th>was_renovated</th>\n",
       "      <th>sqft_basement2</th>\n",
       "    </tr>\n",
       "  </thead>\n",
       "  <tbody>\n",
       "    <tr>\n",
       "      <th>0</th>\n",
       "      <td>0</td>\n",
       "      <td>7129300520</td>\n",
       "      <td>10/13/2014</td>\n",
       "      <td>221900.0</td>\n",
       "      <td>3</td>\n",
       "      <td>1.00</td>\n",
       "      <td>1180</td>\n",
       "      <td>5650</td>\n",
       "      <td>1.0</td>\n",
       "      <td>NO</td>\n",
       "      <td>...</td>\n",
       "      <td>0.0</td>\n",
       "      <td>1955</td>\n",
       "      <td>1955.0</td>\n",
       "      <td>98178</td>\n",
       "      <td>47.5112</td>\n",
       "      <td>-122.257</td>\n",
       "      <td>1340</td>\n",
       "      <td>5650</td>\n",
       "      <td>False</td>\n",
       "      <td>0</td>\n",
       "    </tr>\n",
       "    <tr>\n",
       "      <th>1</th>\n",
       "      <td>1</td>\n",
       "      <td>6414100192</td>\n",
       "      <td>12/9/2014</td>\n",
       "      <td>538000.0</td>\n",
       "      <td>3</td>\n",
       "      <td>2.25</td>\n",
       "      <td>2570</td>\n",
       "      <td>7242</td>\n",
       "      <td>2.0</td>\n",
       "      <td>NO</td>\n",
       "      <td>...</td>\n",
       "      <td>400.0</td>\n",
       "      <td>1951</td>\n",
       "      <td>1991.0</td>\n",
       "      <td>98125</td>\n",
       "      <td>47.7210</td>\n",
       "      <td>-122.319</td>\n",
       "      <td>1690</td>\n",
       "      <td>7639</td>\n",
       "      <td>True</td>\n",
       "      <td>400</td>\n",
       "    </tr>\n",
       "    <tr>\n",
       "      <th>2</th>\n",
       "      <td>2</td>\n",
       "      <td>5631500400</td>\n",
       "      <td>2/25/2015</td>\n",
       "      <td>180000.0</td>\n",
       "      <td>2</td>\n",
       "      <td>1.00</td>\n",
       "      <td>770</td>\n",
       "      <td>10000</td>\n",
       "      <td>1.0</td>\n",
       "      <td>NO</td>\n",
       "      <td>...</td>\n",
       "      <td>0.0</td>\n",
       "      <td>1933</td>\n",
       "      <td>1933.0</td>\n",
       "      <td>98028</td>\n",
       "      <td>47.7379</td>\n",
       "      <td>-122.233</td>\n",
       "      <td>2720</td>\n",
       "      <td>8062</td>\n",
       "      <td>False</td>\n",
       "      <td>0</td>\n",
       "    </tr>\n",
       "    <tr>\n",
       "      <th>3</th>\n",
       "      <td>3</td>\n",
       "      <td>2487200875</td>\n",
       "      <td>12/9/2014</td>\n",
       "      <td>604000.0</td>\n",
       "      <td>4</td>\n",
       "      <td>3.00</td>\n",
       "      <td>1960</td>\n",
       "      <td>5000</td>\n",
       "      <td>1.0</td>\n",
       "      <td>NO</td>\n",
       "      <td>...</td>\n",
       "      <td>910.0</td>\n",
       "      <td>1965</td>\n",
       "      <td>1965.0</td>\n",
       "      <td>98136</td>\n",
       "      <td>47.5208</td>\n",
       "      <td>-122.393</td>\n",
       "      <td>1360</td>\n",
       "      <td>5000</td>\n",
       "      <td>False</td>\n",
       "      <td>910</td>\n",
       "    </tr>\n",
       "    <tr>\n",
       "      <th>4</th>\n",
       "      <td>4</td>\n",
       "      <td>1954400510</td>\n",
       "      <td>2/18/2015</td>\n",
       "      <td>510000.0</td>\n",
       "      <td>3</td>\n",
       "      <td>2.00</td>\n",
       "      <td>1680</td>\n",
       "      <td>8080</td>\n",
       "      <td>1.0</td>\n",
       "      <td>NO</td>\n",
       "      <td>...</td>\n",
       "      <td>0.0</td>\n",
       "      <td>1987</td>\n",
       "      <td>1987.0</td>\n",
       "      <td>98074</td>\n",
       "      <td>47.6168</td>\n",
       "      <td>-122.045</td>\n",
       "      <td>1800</td>\n",
       "      <td>7503</td>\n",
       "      <td>False</td>\n",
       "      <td>0</td>\n",
       "    </tr>\n",
       "  </tbody>\n",
       "</table>\n",
       "<p>5 rows × 24 columns</p>\n",
       "</div>"
      ],
      "text/plain": [
       "   Unnamed: 0          id        date     price  bedrooms  bathrooms  \\\n",
       "0           0  7129300520  10/13/2014  221900.0         3       1.00   \n",
       "1           1  6414100192   12/9/2014  538000.0         3       2.25   \n",
       "2           2  5631500400   2/25/2015  180000.0         2       1.00   \n",
       "3           3  2487200875   12/9/2014  604000.0         4       3.00   \n",
       "4           4  1954400510   2/18/2015  510000.0         3       2.00   \n",
       "\n",
       "   sqft_living  sqft_lot  floors waterfront  ... sqft_basement yr_built  \\\n",
       "0         1180      5650     1.0         NO  ...           0.0     1955   \n",
       "1         2570      7242     2.0         NO  ...         400.0     1951   \n",
       "2          770     10000     1.0         NO  ...           0.0     1933   \n",
       "3         1960      5000     1.0         NO  ...         910.0     1965   \n",
       "4         1680      8080     1.0         NO  ...           0.0     1987   \n",
       "\n",
       "  yr_renovated  zipcode      lat     long  sqft_living15  sqft_lot15  \\\n",
       "0       1955.0    98178  47.5112 -122.257           1340        5650   \n",
       "1       1991.0    98125  47.7210 -122.319           1690        7639   \n",
       "2       1933.0    98028  47.7379 -122.233           2720        8062   \n",
       "3       1965.0    98136  47.5208 -122.393           1360        5000   \n",
       "4       1987.0    98074  47.6168 -122.045           1800        7503   \n",
       "\n",
       "   was_renovated  sqft_basement2  \n",
       "0          False               0  \n",
       "1           True             400  \n",
       "2          False               0  \n",
       "3          False             910  \n",
       "4          False               0  \n",
       "\n",
       "[5 rows x 24 columns]"
      ]
     },
     "execution_count": 5,
     "metadata": {},
     "output_type": "execute_result"
    }
   ],
   "source": [
    "#investigate first 5 rows\n",
    "df.head()"
   ]
  },
  {
   "cell_type": "code",
   "execution_count": 6,
   "metadata": {},
   "outputs": [
    {
     "name": "stdout",
     "output_type": "stream",
     "text": [
      "<class 'pandas.core.frame.DataFrame'>\n",
      "RangeIndex: 21597 entries, 0 to 21596\n",
      "Data columns (total 24 columns):\n",
      " #   Column          Non-Null Count  Dtype  \n",
      "---  ------          --------------  -----  \n",
      " 0   Unnamed: 0      21597 non-null  int64  \n",
      " 1   id              21597 non-null  int64  \n",
      " 2   date            21597 non-null  object \n",
      " 3   price           21597 non-null  float64\n",
      " 4   bedrooms        21597 non-null  int64  \n",
      " 5   bathrooms       21597 non-null  float64\n",
      " 6   sqft_living     21597 non-null  int64  \n",
      " 7   sqft_lot        21597 non-null  int64  \n",
      " 8   floors          21597 non-null  float64\n",
      " 9   waterfront      21597 non-null  object \n",
      " 10  view            21597 non-null  object \n",
      " 11  condition       21597 non-null  object \n",
      " 12  grade           21597 non-null  object \n",
      " 13  sqft_above      21597 non-null  int64  \n",
      " 14  sqft_basement   21597 non-null  object \n",
      " 15  yr_built        21597 non-null  int64  \n",
      " 16  yr_renovated    21597 non-null  float64\n",
      " 17  zipcode         21597 non-null  int64  \n",
      " 18  lat             21597 non-null  float64\n",
      " 19  long            21597 non-null  float64\n",
      " 20  sqft_living15   21597 non-null  int64  \n",
      " 21  sqft_lot15      21597 non-null  int64  \n",
      " 22  was_renovated   21597 non-null  bool   \n",
      " 23  sqft_basement2  21597 non-null  int64  \n",
      "dtypes: bool(1), float64(6), int64(11), object(6)\n",
      "memory usage: 3.8+ MB\n"
     ]
    }
   ],
   "source": [
    "#Look at column data types and null values\n",
    "df.info()"
   ]
  },
  {
   "cell_type": "code",
   "execution_count": 7,
   "metadata": {},
   "outputs": [
    {
     "data": {
      "text/plain": [
       "False    21420\n",
       "True       177\n",
       "Name: id, dtype: int64"
      ]
     },
     "execution_count": 7,
     "metadata": {},
     "output_type": "execute_result"
    }
   ],
   "source": [
    "#count non-unqiue entries in the ID column\n",
    "#represents homes that appear multiple times in our data\n",
    "df['id'].duplicated().value_counts()"
   ]
  },
  {
   "cell_type": "code",
   "execution_count": 8,
   "metadata": {},
   "outputs": [
    {
     "data": {
      "text/plain": [
       "94       6021501535\n",
       "314      4139480200\n",
       "325      7520000520\n",
       "346      3969300030\n",
       "372      2231500030\n",
       "            ...    \n",
       "20165    7853400250\n",
       "20597    2724049222\n",
       "20654    8564860270\n",
       "20764    6300000226\n",
       "21565    7853420110\n",
       "Name: id, Length: 177, dtype: int64"
      ]
     },
     "execution_count": 8,
     "metadata": {},
     "output_type": "execute_result"
    }
   ],
   "source": [
    "#Finding list of duplicate ID values\n",
    "df_dupes = df\n",
    "df_dupes[\"dup_id\"] = df_dupes['id'].duplicated()\n",
    "df_dupes[df_dupes[\"dup_id\"]==True]['id']"
   ]
  },
  {
   "cell_type": "code",
   "execution_count": 9,
   "metadata": {},
   "outputs": [],
   "source": [
    "duplicate_id_values = list(df_dupes[df_dupes[\"dup_id\"]==True]['id'].values)"
   ]
  },
  {
   "cell_type": "code",
   "execution_count": 10,
   "metadata": {},
   "outputs": [
    {
     "data": {
      "text/html": [
       "<div>\n",
       "<style scoped>\n",
       "    .dataframe tbody tr th:only-of-type {\n",
       "        vertical-align: middle;\n",
       "    }\n",
       "\n",
       "    .dataframe tbody tr th {\n",
       "        vertical-align: top;\n",
       "    }\n",
       "\n",
       "    .dataframe thead th {\n",
       "        text-align: right;\n",
       "    }\n",
       "</style>\n",
       "<table border=\"1\" class=\"dataframe\">\n",
       "  <thead>\n",
       "    <tr style=\"text-align: right;\">\n",
       "      <th></th>\n",
       "      <th>Unnamed: 0</th>\n",
       "      <th>id</th>\n",
       "      <th>date</th>\n",
       "      <th>price</th>\n",
       "      <th>bedrooms</th>\n",
       "      <th>bathrooms</th>\n",
       "      <th>sqft_living</th>\n",
       "      <th>sqft_lot</th>\n",
       "      <th>floors</th>\n",
       "      <th>waterfront</th>\n",
       "      <th>...</th>\n",
       "      <th>yr_built</th>\n",
       "      <th>yr_renovated</th>\n",
       "      <th>zipcode</th>\n",
       "      <th>lat</th>\n",
       "      <th>long</th>\n",
       "      <th>sqft_living15</th>\n",
       "      <th>sqft_lot15</th>\n",
       "      <th>was_renovated</th>\n",
       "      <th>sqft_basement2</th>\n",
       "      <th>dup_id</th>\n",
       "    </tr>\n",
       "  </thead>\n",
       "  <tbody>\n",
       "    <tr>\n",
       "      <th>324</th>\n",
       "      <td>324</td>\n",
       "      <td>7520000520</td>\n",
       "      <td>9/5/2014</td>\n",
       "      <td>232000.0</td>\n",
       "      <td>2</td>\n",
       "      <td>1.0</td>\n",
       "      <td>1240</td>\n",
       "      <td>12092</td>\n",
       "      <td>1.0</td>\n",
       "      <td>NO</td>\n",
       "      <td>...</td>\n",
       "      <td>1922</td>\n",
       "      <td>1984.0</td>\n",
       "      <td>98146</td>\n",
       "      <td>47.4957</td>\n",
       "      <td>-122.352</td>\n",
       "      <td>1820</td>\n",
       "      <td>7460</td>\n",
       "      <td>True</td>\n",
       "      <td>280</td>\n",
       "      <td>False</td>\n",
       "    </tr>\n",
       "    <tr>\n",
       "      <th>325</th>\n",
       "      <td>325</td>\n",
       "      <td>7520000520</td>\n",
       "      <td>3/11/2015</td>\n",
       "      <td>240500.0</td>\n",
       "      <td>2</td>\n",
       "      <td>1.0</td>\n",
       "      <td>1240</td>\n",
       "      <td>12092</td>\n",
       "      <td>1.0</td>\n",
       "      <td>NO</td>\n",
       "      <td>...</td>\n",
       "      <td>1922</td>\n",
       "      <td>1984.0</td>\n",
       "      <td>98146</td>\n",
       "      <td>47.4957</td>\n",
       "      <td>-122.352</td>\n",
       "      <td>1820</td>\n",
       "      <td>7460</td>\n",
       "      <td>True</td>\n",
       "      <td>280</td>\n",
       "      <td>True</td>\n",
       "    </tr>\n",
       "  </tbody>\n",
       "</table>\n",
       "<p>2 rows × 25 columns</p>\n",
       "</div>"
      ],
      "text/plain": [
       "     Unnamed: 0          id       date     price  bedrooms  bathrooms  \\\n",
       "324         324  7520000520   9/5/2014  232000.0         2        1.0   \n",
       "325         325  7520000520  3/11/2015  240500.0         2        1.0   \n",
       "\n",
       "     sqft_living  sqft_lot  floors waterfront  ... yr_built yr_renovated  \\\n",
       "324         1240     12092     1.0         NO  ...     1922       1984.0   \n",
       "325         1240     12092     1.0         NO  ...     1922       1984.0   \n",
       "\n",
       "    zipcode      lat     long  sqft_living15  sqft_lot15  was_renovated  \\\n",
       "324   98146  47.4957 -122.352           1820        7460           True   \n",
       "325   98146  47.4957 -122.352           1820        7460           True   \n",
       "\n",
       "     sqft_basement2  dup_id  \n",
       "324             280   False  \n",
       "325             280    True  \n",
       "\n",
       "[2 rows x 25 columns]"
      ]
     },
     "execution_count": 10,
     "metadata": {},
     "output_type": "execute_result"
    }
   ],
   "source": [
    "#Ivestigating a few duplicate values\n",
    "df[df['id']==duplicate_id_values[2]]"
   ]
  },
  {
   "cell_type": "code",
   "execution_count": 11,
   "metadata": {},
   "outputs": [
    {
     "data": {
      "text/html": [
       "<div>\n",
       "<style scoped>\n",
       "    .dataframe tbody tr th:only-of-type {\n",
       "        vertical-align: middle;\n",
       "    }\n",
       "\n",
       "    .dataframe tbody tr th {\n",
       "        vertical-align: top;\n",
       "    }\n",
       "\n",
       "    .dataframe thead th {\n",
       "        text-align: right;\n",
       "    }\n",
       "</style>\n",
       "<table border=\"1\" class=\"dataframe\">\n",
       "  <thead>\n",
       "    <tr style=\"text-align: right;\">\n",
       "      <th></th>\n",
       "      <th>Unnamed: 0</th>\n",
       "      <th>id</th>\n",
       "      <th>date</th>\n",
       "      <th>price</th>\n",
       "      <th>bedrooms</th>\n",
       "      <th>bathrooms</th>\n",
       "      <th>sqft_living</th>\n",
       "      <th>sqft_lot</th>\n",
       "      <th>floors</th>\n",
       "      <th>waterfront</th>\n",
       "      <th>...</th>\n",
       "      <th>yr_built</th>\n",
       "      <th>yr_renovated</th>\n",
       "      <th>zipcode</th>\n",
       "      <th>lat</th>\n",
       "      <th>long</th>\n",
       "      <th>sqft_living15</th>\n",
       "      <th>sqft_lot15</th>\n",
       "      <th>was_renovated</th>\n",
       "      <th>sqft_basement2</th>\n",
       "      <th>dup_id</th>\n",
       "    </tr>\n",
       "  </thead>\n",
       "  <tbody>\n",
       "    <tr>\n",
       "      <th>717</th>\n",
       "      <td>717</td>\n",
       "      <td>8820903380</td>\n",
       "      <td>7/28/2014</td>\n",
       "      <td>452000.0</td>\n",
       "      <td>6</td>\n",
       "      <td>2.25</td>\n",
       "      <td>2660</td>\n",
       "      <td>13579</td>\n",
       "      <td>2.0</td>\n",
       "      <td>NO</td>\n",
       "      <td>...</td>\n",
       "      <td>1937</td>\n",
       "      <td>1990.0</td>\n",
       "      <td>98125</td>\n",
       "      <td>47.7142</td>\n",
       "      <td>-122.286</td>\n",
       "      <td>1120</td>\n",
       "      <td>8242</td>\n",
       "      <td>True</td>\n",
       "      <td>0</td>\n",
       "      <td>False</td>\n",
       "    </tr>\n",
       "    <tr>\n",
       "      <th>718</th>\n",
       "      <td>718</td>\n",
       "      <td>8820903380</td>\n",
       "      <td>1/2/2015</td>\n",
       "      <td>730000.0</td>\n",
       "      <td>6</td>\n",
       "      <td>2.25</td>\n",
       "      <td>2660</td>\n",
       "      <td>13579</td>\n",
       "      <td>2.0</td>\n",
       "      <td>NO</td>\n",
       "      <td>...</td>\n",
       "      <td>1937</td>\n",
       "      <td>1990.0</td>\n",
       "      <td>98125</td>\n",
       "      <td>47.7142</td>\n",
       "      <td>-122.286</td>\n",
       "      <td>1120</td>\n",
       "      <td>8242</td>\n",
       "      <td>True</td>\n",
       "      <td>0</td>\n",
       "      <td>True</td>\n",
       "    </tr>\n",
       "  </tbody>\n",
       "</table>\n",
       "<p>2 rows × 25 columns</p>\n",
       "</div>"
      ],
      "text/plain": [
       "     Unnamed: 0          id       date     price  bedrooms  bathrooms  \\\n",
       "717         717  8820903380  7/28/2014  452000.0         6       2.25   \n",
       "718         718  8820903380   1/2/2015  730000.0         6       2.25   \n",
       "\n",
       "     sqft_living  sqft_lot  floors waterfront  ... yr_built yr_renovated  \\\n",
       "717         2660     13579     2.0         NO  ...     1937       1990.0   \n",
       "718         2660     13579     2.0         NO  ...     1937       1990.0   \n",
       "\n",
       "    zipcode      lat     long  sqft_living15  sqft_lot15  was_renovated  \\\n",
       "717   98125  47.7142 -122.286           1120        8242           True   \n",
       "718   98125  47.7142 -122.286           1120        8242           True   \n",
       "\n",
       "     sqft_basement2  dup_id  \n",
       "717               0   False  \n",
       "718               0    True  \n",
       "\n",
       "[2 rows x 25 columns]"
      ]
     },
     "execution_count": 11,
     "metadata": {},
     "output_type": "execute_result"
    }
   ],
   "source": [
    "df[df['id']==duplicate_id_values[5]]"
   ]
  },
  {
   "cell_type": "markdown",
   "metadata": {},
   "source": [
    "Concluding that house ids appear multiple times because homes can be sold multiple times"
   ]
  },
  {
   "cell_type": "code",
   "execution_count": 12,
   "metadata": {},
   "outputs": [
    {
     "data": {
      "text/html": [
       "<div>\n",
       "<style scoped>\n",
       "    .dataframe tbody tr th:only-of-type {\n",
       "        vertical-align: middle;\n",
       "    }\n",
       "\n",
       "    .dataframe tbody tr th {\n",
       "        vertical-align: top;\n",
       "    }\n",
       "\n",
       "    .dataframe thead th {\n",
       "        text-align: right;\n",
       "    }\n",
       "</style>\n",
       "<table border=\"1\" class=\"dataframe\">\n",
       "  <thead>\n",
       "    <tr style=\"text-align: right;\">\n",
       "      <th></th>\n",
       "      <th>Unnamed: 0</th>\n",
       "      <th>id</th>\n",
       "      <th>price</th>\n",
       "      <th>bedrooms</th>\n",
       "      <th>bathrooms</th>\n",
       "      <th>sqft_living</th>\n",
       "      <th>sqft_lot</th>\n",
       "      <th>floors</th>\n",
       "      <th>sqft_above</th>\n",
       "      <th>yr_built</th>\n",
       "      <th>yr_renovated</th>\n",
       "      <th>zipcode</th>\n",
       "      <th>lat</th>\n",
       "      <th>long</th>\n",
       "      <th>sqft_living15</th>\n",
       "      <th>sqft_lot15</th>\n",
       "      <th>sqft_basement2</th>\n",
       "    </tr>\n",
       "  </thead>\n",
       "  <tbody>\n",
       "    <tr>\n",
       "      <th>count</th>\n",
       "      <td>21597.000000</td>\n",
       "      <td>2.159700e+04</td>\n",
       "      <td>2.159700e+04</td>\n",
       "      <td>21597.000000</td>\n",
       "      <td>21597.000000</td>\n",
       "      <td>21597.000000</td>\n",
       "      <td>2.159700e+04</td>\n",
       "      <td>21597.000000</td>\n",
       "      <td>21597.000000</td>\n",
       "      <td>21597.000000</td>\n",
       "      <td>21597.000000</td>\n",
       "      <td>21597.000000</td>\n",
       "      <td>21597.000000</td>\n",
       "      <td>21597.000000</td>\n",
       "      <td>21597.000000</td>\n",
       "      <td>21597.000000</td>\n",
       "      <td>21597.000000</td>\n",
       "    </tr>\n",
       "    <tr>\n",
       "      <th>mean</th>\n",
       "      <td>10798.000000</td>\n",
       "      <td>4.580474e+09</td>\n",
       "      <td>5.402966e+05</td>\n",
       "      <td>3.371811</td>\n",
       "      <td>2.115826</td>\n",
       "      <td>2080.321850</td>\n",
       "      <td>1.509941e+04</td>\n",
       "      <td>1.494096</td>\n",
       "      <td>1788.596842</td>\n",
       "      <td>1970.999676</td>\n",
       "      <td>1972.945131</td>\n",
       "      <td>98077.951845</td>\n",
       "      <td>47.560093</td>\n",
       "      <td>-122.213982</td>\n",
       "      <td>1986.620318</td>\n",
       "      <td>12758.283512</td>\n",
       "      <td>291.725008</td>\n",
       "    </tr>\n",
       "    <tr>\n",
       "      <th>std</th>\n",
       "      <td>6234.661218</td>\n",
       "      <td>2.876736e+09</td>\n",
       "      <td>3.673681e+05</td>\n",
       "      <td>0.904096</td>\n",
       "      <td>0.768984</td>\n",
       "      <td>918.106125</td>\n",
       "      <td>4.141264e+04</td>\n",
       "      <td>0.539683</td>\n",
       "      <td>827.759761</td>\n",
       "      <td>29.375234</td>\n",
       "      <td>28.945393</td>\n",
       "      <td>53.513072</td>\n",
       "      <td>0.138552</td>\n",
       "      <td>0.140724</td>\n",
       "      <td>685.230472</td>\n",
       "      <td>27274.441950</td>\n",
       "      <td>442.667800</td>\n",
       "    </tr>\n",
       "    <tr>\n",
       "      <th>min</th>\n",
       "      <td>0.000000</td>\n",
       "      <td>1.000102e+06</td>\n",
       "      <td>7.800000e+04</td>\n",
       "      <td>1.000000</td>\n",
       "      <td>0.500000</td>\n",
       "      <td>370.000000</td>\n",
       "      <td>5.200000e+02</td>\n",
       "      <td>1.000000</td>\n",
       "      <td>370.000000</td>\n",
       "      <td>1900.000000</td>\n",
       "      <td>1900.000000</td>\n",
       "      <td>98001.000000</td>\n",
       "      <td>47.155900</td>\n",
       "      <td>-122.519000</td>\n",
       "      <td>399.000000</td>\n",
       "      <td>651.000000</td>\n",
       "      <td>0.000000</td>\n",
       "    </tr>\n",
       "    <tr>\n",
       "      <th>25%</th>\n",
       "      <td>5399.000000</td>\n",
       "      <td>2.123049e+09</td>\n",
       "      <td>3.220000e+05</td>\n",
       "      <td>3.000000</td>\n",
       "      <td>1.750000</td>\n",
       "      <td>1430.000000</td>\n",
       "      <td>5.040000e+03</td>\n",
       "      <td>1.000000</td>\n",
       "      <td>1190.000000</td>\n",
       "      <td>1951.000000</td>\n",
       "      <td>1954.000000</td>\n",
       "      <td>98033.000000</td>\n",
       "      <td>47.471100</td>\n",
       "      <td>-122.328000</td>\n",
       "      <td>1490.000000</td>\n",
       "      <td>5100.000000</td>\n",
       "      <td>0.000000</td>\n",
       "    </tr>\n",
       "    <tr>\n",
       "      <th>50%</th>\n",
       "      <td>10798.000000</td>\n",
       "      <td>3.904930e+09</td>\n",
       "      <td>4.500000e+05</td>\n",
       "      <td>3.000000</td>\n",
       "      <td>2.250000</td>\n",
       "      <td>1910.000000</td>\n",
       "      <td>7.618000e+03</td>\n",
       "      <td>1.500000</td>\n",
       "      <td>1560.000000</td>\n",
       "      <td>1975.000000</td>\n",
       "      <td>1977.000000</td>\n",
       "      <td>98065.000000</td>\n",
       "      <td>47.571800</td>\n",
       "      <td>-122.231000</td>\n",
       "      <td>1840.000000</td>\n",
       "      <td>7620.000000</td>\n",
       "      <td>0.000000</td>\n",
       "    </tr>\n",
       "    <tr>\n",
       "      <th>75%</th>\n",
       "      <td>16197.000000</td>\n",
       "      <td>7.308900e+09</td>\n",
       "      <td>6.450000e+05</td>\n",
       "      <td>4.000000</td>\n",
       "      <td>2.500000</td>\n",
       "      <td>2550.000000</td>\n",
       "      <td>1.068500e+04</td>\n",
       "      <td>2.000000</td>\n",
       "      <td>2210.000000</td>\n",
       "      <td>1997.000000</td>\n",
       "      <td>1999.000000</td>\n",
       "      <td>98118.000000</td>\n",
       "      <td>47.678000</td>\n",
       "      <td>-122.125000</td>\n",
       "      <td>2360.000000</td>\n",
       "      <td>10083.000000</td>\n",
       "      <td>560.000000</td>\n",
       "    </tr>\n",
       "    <tr>\n",
       "      <th>max</th>\n",
       "      <td>21596.000000</td>\n",
       "      <td>9.900000e+09</td>\n",
       "      <td>7.700000e+06</td>\n",
       "      <td>11.000000</td>\n",
       "      <td>8.000000</td>\n",
       "      <td>13540.000000</td>\n",
       "      <td>1.651359e+06</td>\n",
       "      <td>3.500000</td>\n",
       "      <td>9410.000000</td>\n",
       "      <td>2015.000000</td>\n",
       "      <td>2015.000000</td>\n",
       "      <td>98199.000000</td>\n",
       "      <td>47.777600</td>\n",
       "      <td>-121.315000</td>\n",
       "      <td>6210.000000</td>\n",
       "      <td>871200.000000</td>\n",
       "      <td>4820.000000</td>\n",
       "    </tr>\n",
       "  </tbody>\n",
       "</table>\n",
       "</div>"
      ],
      "text/plain": [
       "         Unnamed: 0            id         price      bedrooms     bathrooms  \\\n",
       "count  21597.000000  2.159700e+04  2.159700e+04  21597.000000  21597.000000   \n",
       "mean   10798.000000  4.580474e+09  5.402966e+05      3.371811      2.115826   \n",
       "std     6234.661218  2.876736e+09  3.673681e+05      0.904096      0.768984   \n",
       "min        0.000000  1.000102e+06  7.800000e+04      1.000000      0.500000   \n",
       "25%     5399.000000  2.123049e+09  3.220000e+05      3.000000      1.750000   \n",
       "50%    10798.000000  3.904930e+09  4.500000e+05      3.000000      2.250000   \n",
       "75%    16197.000000  7.308900e+09  6.450000e+05      4.000000      2.500000   \n",
       "max    21596.000000  9.900000e+09  7.700000e+06     11.000000      8.000000   \n",
       "\n",
       "        sqft_living      sqft_lot        floors    sqft_above      yr_built  \\\n",
       "count  21597.000000  2.159700e+04  21597.000000  21597.000000  21597.000000   \n",
       "mean    2080.321850  1.509941e+04      1.494096   1788.596842   1970.999676   \n",
       "std      918.106125  4.141264e+04      0.539683    827.759761     29.375234   \n",
       "min      370.000000  5.200000e+02      1.000000    370.000000   1900.000000   \n",
       "25%     1430.000000  5.040000e+03      1.000000   1190.000000   1951.000000   \n",
       "50%     1910.000000  7.618000e+03      1.500000   1560.000000   1975.000000   \n",
       "75%     2550.000000  1.068500e+04      2.000000   2210.000000   1997.000000   \n",
       "max    13540.000000  1.651359e+06      3.500000   9410.000000   2015.000000   \n",
       "\n",
       "       yr_renovated       zipcode           lat          long  sqft_living15  \\\n",
       "count  21597.000000  21597.000000  21597.000000  21597.000000   21597.000000   \n",
       "mean    1972.945131  98077.951845     47.560093   -122.213982    1986.620318   \n",
       "std       28.945393     53.513072      0.138552      0.140724     685.230472   \n",
       "min     1900.000000  98001.000000     47.155900   -122.519000     399.000000   \n",
       "25%     1954.000000  98033.000000     47.471100   -122.328000    1490.000000   \n",
       "50%     1977.000000  98065.000000     47.571800   -122.231000    1840.000000   \n",
       "75%     1999.000000  98118.000000     47.678000   -122.125000    2360.000000   \n",
       "max     2015.000000  98199.000000     47.777600   -121.315000    6210.000000   \n",
       "\n",
       "          sqft_lot15  sqft_basement2  \n",
       "count   21597.000000    21597.000000  \n",
       "mean    12758.283512      291.725008  \n",
       "std     27274.441950      442.667800  \n",
       "min       651.000000        0.000000  \n",
       "25%      5100.000000        0.000000  \n",
       "50%      7620.000000        0.000000  \n",
       "75%     10083.000000      560.000000  \n",
       "max    871200.000000     4820.000000  "
      ]
     },
     "execution_count": 12,
     "metadata": {},
     "output_type": "execute_result"
    }
   ],
   "source": [
    "#looking at measures of central tendancy in the data\n",
    "df.describe()"
   ]
  },
  {
   "cell_type": "markdown",
   "metadata": {},
   "source": [
    "### Develop a plan for creating the baseline model"
   ]
  },
  {
   "cell_type": "markdown",
   "metadata": {},
   "source": [
    "#### Investigate correlations of numeric columns and price\n",
    "Numeric columns offer the simplest starting point for linear regression. Investigating correlation of these columns."
   ]
  },
  {
   "cell_type": "code",
   "execution_count": 13,
   "metadata": {},
   "outputs": [],
   "source": [
    "#Investigate correlations of valid numeric columns and price\n",
    "valid_numeric_columns_df = df[[\"price\",\"bedrooms\",\"bathrooms\",\"sqft_living\",\"sqft_lot\",\"sqft_lot\",\"floors\",\"sqft_above\",\"yr_built\",\"yr_renovated\",\"sqft_living15\"]]"
   ]
  },
  {
   "cell_type": "code",
   "execution_count": 14,
   "metadata": {},
   "outputs": [
    {
     "data": {
      "text/plain": [
       "price            1.000000\n",
       "sqft_living      0.701917\n",
       "sqft_above       0.605368\n",
       "sqft_living15    0.585241\n",
       "bathrooms        0.525906\n",
       "bedrooms         0.315954\n",
       "floors           0.256804\n",
       "yr_renovated     0.097541\n",
       "sqft_lot         0.089876\n",
       "sqft_lot         0.089876\n",
       "yr_built         0.053953\n",
       "dtype: float64"
      ]
     },
     "execution_count": 14,
     "metadata": {},
     "output_type": "execute_result"
    }
   ],
   "source": [
    "abs(valid_numeric_columns_df.corrwith(valid_numeric_columns_df['price'])).sort_values(ascending=False)"
   ]
  },
  {
   "cell_type": "code",
   "execution_count": 15,
   "metadata": {},
   "outputs": [
    {
     "data": {
      "text/html": [
       "<div>\n",
       "<style scoped>\n",
       "    .dataframe tbody tr th:only-of-type {\n",
       "        vertical-align: middle;\n",
       "    }\n",
       "\n",
       "    .dataframe tbody tr th {\n",
       "        vertical-align: top;\n",
       "    }\n",
       "\n",
       "    .dataframe thead th {\n",
       "        text-align: right;\n",
       "    }\n",
       "</style>\n",
       "<table border=\"1\" class=\"dataframe\">\n",
       "  <thead>\n",
       "    <tr style=\"text-align: right;\">\n",
       "      <th></th>\n",
       "      <th>price</th>\n",
       "      <th>bedrooms</th>\n",
       "      <th>bathrooms</th>\n",
       "      <th>sqft_living</th>\n",
       "      <th>sqft_lot</th>\n",
       "      <th>sqft_lot</th>\n",
       "      <th>floors</th>\n",
       "      <th>sqft_above</th>\n",
       "      <th>yr_built</th>\n",
       "      <th>yr_renovated</th>\n",
       "      <th>sqft_living15</th>\n",
       "    </tr>\n",
       "  </thead>\n",
       "  <tbody>\n",
       "    <tr>\n",
       "      <th>price</th>\n",
       "      <td>True</td>\n",
       "      <td>False</td>\n",
       "      <td>False</td>\n",
       "      <td>True</td>\n",
       "      <td>False</td>\n",
       "      <td>False</td>\n",
       "      <td>False</td>\n",
       "      <td>False</td>\n",
       "      <td>False</td>\n",
       "      <td>False</td>\n",
       "      <td>False</td>\n",
       "    </tr>\n",
       "  </tbody>\n",
       "</table>\n",
       "</div>"
      ],
      "text/plain": [
       "       price  bedrooms  bathrooms  sqft_living  sqft_lot  sqft_lot  floors  \\\n",
       "price   True     False      False         True     False     False   False   \n",
       "\n",
       "       sqft_above  yr_built  yr_renovated  sqft_living15  \n",
       "price       False     False         False          False  "
      ]
     },
     "execution_count": 15,
     "metadata": {},
     "output_type": "execute_result"
    }
   ],
   "source": [
    "((abs(valid_numeric_columns_df.corr())) >= .70)[:1]"
   ]
  },
  {
   "cell_type": "markdown",
   "metadata": {},
   "source": [
    " `'sqft_living'` is a candidate for further investigation based on the absolute value of its correlations with `'price'` being above 0.70\n",
    "\n"
   ]
  },
  {
   "cell_type": "markdown",
   "metadata": {},
   "source": [
    "#### Validate assumptions for simple regression \n",
    "Validate that our candidates for dependant and independant variables `'sqft_living'` and  `'price'` pass assumptions for linear regression analysis.\n",
    "\n",
    "  ##### Before running model \n",
    " - Linearity\n",
    " ##### After running model\n",
    " - Normality of model residals (after running model)\n",
    " - Homoscedasticity (after running model)"
   ]
  },
  {
   "cell_type": "markdown",
   "metadata": {},
   "source": [
    "#### Validate linearity\n",
    "The relatioinship between `'sqft_living'` and  `'price'` passes our visual linearity test. There appear to be some outliers to investigate in future models that could improve the results."
   ]
  },
  {
   "cell_type": "code",
   "execution_count": 16,
   "metadata": {},
   "outputs": [
    {
     "data": {
      "image/png": "[encoded data removed]",
      "text/plain": [
       "<Figure size 432x288 with 4 Axes>"
      ]
     },
     "metadata": {
      "needs_background": "light"
     },
     "output_type": "display_data"
    }
   ],
   "source": [
    "pd.plotting.scatter_matrix(df[['price','sqft_living']]);\n",
    "plt.show()"
   ]
  },
  {
   "cell_type": "markdown",
   "metadata": {},
   "source": [
    "#### Run simple regression model on `'sqft_living'` and  `'price'`"
   ]
  },
  {
   "cell_type": "code",
   "execution_count": 17,
   "metadata": {},
   "outputs": [
    {
     "data": {
      "text/html": [
       "<table class=\"simpletable\">\n",
       "<caption>OLS Regression Results</caption>\n",
       "<tr>\n",
       "  <th>Dep. Variable:</th>          <td>price</td>      <th>  R-squared:         </th>  <td>   0.493</td>  \n",
       "</tr>\n",
       "<tr>\n",
       "  <th>Model:</th>                   <td>OLS</td>       <th>  Adj. R-squared:    </th>  <td>   0.493</td>  \n",
       "</tr>\n",
       "<tr>\n",
       "  <th>Method:</th>             <td>Least Squares</td>  <th>  F-statistic:       </th>  <td>2.097e+04</td> \n",
       "</tr>\n",
       "<tr>\n",
       "  <th>Date:</th>             <td>Tue, 21 Jun 2022</td> <th>  Prob (F-statistic):</th>   <td>  0.00</td>   \n",
       "</tr>\n",
       "<tr>\n",
       "  <th>Time:</th>                 <td>15:19:45</td>     <th>  Log-Likelihood:    </th> <td>-3.0006e+05</td>\n",
       "</tr>\n",
       "<tr>\n",
       "  <th>No. Observations:</th>      <td> 21597</td>      <th>  AIC:               </th>  <td>6.001e+05</td> \n",
       "</tr>\n",
       "<tr>\n",
       "  <th>Df Residuals:</th>          <td> 21595</td>      <th>  BIC:               </th>  <td>6.001e+05</td> \n",
       "</tr>\n",
       "<tr>\n",
       "  <th>Df Model:</th>              <td>     1</td>      <th>                     </th>      <td> </td>     \n",
       "</tr>\n",
       "<tr>\n",
       "  <th>Covariance Type:</th>      <td>nonrobust</td>    <th>                     </th>      <td> </td>     \n",
       "</tr>\n",
       "</table>\n",
       "<table class=\"simpletable\">\n",
       "<tr>\n",
       "       <td></td>          <th>coef</th>     <th>std err</th>      <th>t</th>      <th>P>|t|</th>  <th>[0.025</th>    <th>0.975]</th>  \n",
       "</tr>\n",
       "<tr>\n",
       "  <th>Intercept</th>   <td>-4.399e+04</td> <td> 4410.023</td> <td>   -9.975</td> <td> 0.000</td> <td>-5.26e+04</td> <td>-3.53e+04</td>\n",
       "</tr>\n",
       "<tr>\n",
       "  <th>sqft_living</th> <td>  280.8630</td> <td>    1.939</td> <td>  144.819</td> <td> 0.000</td> <td>  277.062</td> <td>  284.664</td>\n",
       "</tr>\n",
       "</table>\n",
       "<table class=\"simpletable\">\n",
       "<tr>\n",
       "  <th>Omnibus:</th>       <td>14801.942</td> <th>  Durbin-Watson:     </th>  <td>   1.982</td> \n",
       "</tr>\n",
       "<tr>\n",
       "  <th>Prob(Omnibus):</th>  <td> 0.000</td>   <th>  Jarque-Bera (JB):  </th> <td>542662.604</td>\n",
       "</tr>\n",
       "<tr>\n",
       "  <th>Skew:</th>           <td> 2.820</td>   <th>  Prob(JB):          </th>  <td>    0.00</td> \n",
       "</tr>\n",
       "<tr>\n",
       "  <th>Kurtosis:</th>       <td>26.901</td>   <th>  Cond. No.          </th>  <td>5.63e+03</td> \n",
       "</tr>\n",
       "</table><br/><br/>Notes:<br/>[1] Standard Errors assume that the covariance matrix of the errors is correctly specified.<br/>[2] The condition number is large, 5.63e+03. This might indicate that there are<br/>strong multicollinearity or other numerical problems."
      ],
      "text/plain": [
       "<class 'statsmodels.iolib.summary.Summary'>\n",
       "\"\"\"\n",
       "                            OLS Regression Results                            \n",
       "==============================================================================\n",
       "Dep. Variable:                  price   R-squared:                       0.493\n",
       "Model:                            OLS   Adj. R-squared:                  0.493\n",
       "Method:                 Least Squares   F-statistic:                 2.097e+04\n",
       "Date:                Tue, 21 Jun 2022   Prob (F-statistic):               0.00\n",
       "Time:                        15:19:45   Log-Likelihood:            -3.0006e+05\n",
       "No. Observations:               21597   AIC:                         6.001e+05\n",
       "Df Residuals:                   21595   BIC:                         6.001e+05\n",
       "Df Model:                           1                                         \n",
       "Covariance Type:            nonrobust                                         \n",
       "===============================================================================\n",
       "                  coef    std err          t      P>|t|      [0.025      0.975]\n",
       "-------------------------------------------------------------------------------\n",
       "Intercept   -4.399e+04   4410.023     -9.975      0.000   -5.26e+04   -3.53e+04\n",
       "sqft_living   280.8630      1.939    144.819      0.000     277.062     284.664\n",
       "==============================================================================\n",
       "Omnibus:                    14801.942   Durbin-Watson:                   1.982\n",
       "Prob(Omnibus):                  0.000   Jarque-Bera (JB):           542662.604\n",
       "Skew:                           2.820   Prob(JB):                         0.00\n",
       "Kurtosis:                      26.901   Cond. No.                     5.63e+03\n",
       "==============================================================================\n",
       "\n",
       "Notes:\n",
       "[1] Standard Errors assume that the covariance matrix of the errors is correctly specified.\n",
       "[2] The condition number is large, 5.63e+03. This might indicate that there are\n",
       "strong multicollinearity or other numerical problems.\n",
       "\"\"\""
      ]
     },
     "execution_count": 17,
     "metadata": {},
     "output_type": "execute_result"
    }
   ],
   "source": [
    "from statsmodels.formula.api import ols\n",
    "simple_model = ols('price ~ sqft_living',df).fit()\n",
    "simple_model_summary = simple_model.summary()\n",
    "simple_model_summary"
   ]
  },
  {
   "cell_type": "code",
   "execution_count": 18,
   "metadata": {},
   "outputs": [
    {
     "data": {
      "image/png": "[encoded data removed]",
      "text/plain": [
       "<Figure size 1080x360 with 2 Axes>"
      ]
     },
     "metadata": {
      "needs_background": "light"
     },
     "output_type": "display_data"
    },
    {
     "data": {
      "image/png": "[encoded data removed]",
      "text/plain": [
       "<Figure size 432x288 with 1 Axes>"
      ]
     },
     "metadata": {},
     "output_type": "display_data"
    }
   ],
   "source": [
    "import scipy.stats as stats\n",
    "resid = simple_model.resid\n",
    "\n",
    "fig, ax = plt.subplots(1,2,figsize=(15, 5))\n",
    "ax[0].scatter(x=simple_model.fittedvalues,y=resid)\n",
    "ax[0].set_xlabel(\"Predicted Values\")\n",
    "ax[0].set_ylabel(\"Residual Error\")\n",
    "ax[0].set_title(label=\"Test for Homoscedasticity\")\n",
    "\n",
    "\n",
    "ax[1].hist(resid)\n",
    "ax[1].set_xlabel(\"Residual Error\")\n",
    "ax[1].set_ylabel(\"Count\")\n",
    "ax[1].set_title(label=\"Histogram of Residual Error\");\n",
    "\n",
    "import statsmodels.api as sm\n",
    "plt.style.use('ggplot')\n",
    "fig = sm.graphics.qqplot(resid, dist=stats.norm, line='45', fit=True)"
   ]
  },
  {
   "cell_type": "markdown",
   "metadata": {},
   "source": [
    "### Analysis of simple regression model"
   ]
  },
  {
   "cell_type": "code",
   "execution_count": 19,
   "metadata": {},
   "outputs": [
    {
     "name": "stdout",
     "output_type": "stream",
     "text": [
      "R-squared 0.49\n",
      "P-Value 0.0\n",
      "Price standard error 4410.0\n",
      "sqft_living coef 281.0\n"
     ]
    }
   ],
   "source": [
    "print(f'R-squared {round(simple_model.rsquared,2)}')\n",
    "print(f'P-Value {simple_model.f_pvalue}')\n",
    "print(f'Price standard error {round(simple_model.bse,0)[0]}')\n",
    "print(f'sqft_living coef {round(simple_model.params[1])}')"
   ]
  },
  {
   "cell_type": "markdown",
   "metadata": {},
   "source": [
    "We're confident that we've described a statistically significant relationship between`'sqft_living'` and  `'price'` but our model is pretty biased and doesn't do a very good job predicting home price.\n",
    "\n",
    "Our tests of validity indicated that there is heteroscedasticity and our errors have a significant rightward skew. Our predictions seem to break down at higher `'sqft_living'` suggesting that we have some outliers to deal with to improve our model."
   ]
  },
  {
   "cell_type": "markdown",
   "metadata": {},
   "source": [
    "## Pt 2\n",
    " - Improvements to simple model"
   ]
  },
  {
   "cell_type": "markdown",
   "metadata": {},
   "source": [
    "#### Validate assumptions for improvements to simple regression\n",
    "\n",
    " ##### Before running model \n",
    " - Linearity\n",
    " - Outliers\n",
    " - Normality of variables (not-required) \n",
    " ##### After running model\n",
    " - Normality of model residals (after running model)\n",
    " - Homoscedasticity (after running model)"
   ]
  },
  {
   "cell_type": "markdown",
   "metadata": {},
   "source": [
    "#### Validate outliers\n"
   ]
  },
  {
   "cell_type": "markdown",
   "metadata": {},
   "source": [
    "Looking at `'sqft_living'` because there's seems to be a lack of linearity between `'sqft_living'` and  `'price'` when `'sqft_living'` is very high"
   ]
  },
  {
   "cell_type": "code",
   "execution_count": 20,
   "metadata": {},
   "outputs": [
    {
     "data": {
      "image/png": "[encoded data removed]",
      "text/plain": [
       "<Figure size 432x288 with 1 Axes>"
      ]
     },
     "metadata": {},
     "output_type": "display_data"
    }
   ],
   "source": [
    "sns.histplot(df['sqft_living']);"
   ]
  },
  {
   "cell_type": "code",
   "execution_count": 21,
   "metadata": {},
   "outputs": [
    {
     "data": {
      "text/plain": [
       "count    21597.000000\n",
       "mean      2080.321850\n",
       "std        918.106125\n",
       "min        370.000000\n",
       "25%       1430.000000\n",
       "50%       1910.000000\n",
       "75%       2550.000000\n",
       "max      13540.000000\n",
       "Name: sqft_living, dtype: float64"
      ]
     },
     "execution_count": 21,
     "metadata": {},
     "output_type": "execute_result"
    }
   ],
   "source": [
    "df['sqft_living'].describe()"
   ]
  },
  {
   "cell_type": "markdown",
   "metadata": {},
   "source": [
    "### Model 2: Remove upper outliers in `'sqft_living'`"
   ]
  },
  {
   "cell_type": "markdown",
   "metadata": {},
   "source": [
    "`'sqft_living'` is normally distributed but there is a right-skew giving us some outliers.\n",
    "The rule for a high outlier is that if any data point in a dataset is more than Q3 - 1.5xIQR, it's a high outlier. We will subset our data to only look at data that falls under 1.5xIQR"
   ]
  },
  {
   "cell_type": "code",
   "execution_count": 22,
   "metadata": {
    "scrolled": true
   },
   "outputs": [
    {
     "name": "stdout",
     "output_type": "stream",
     "text": [
      " sqft_living_iqr IQR: 1120.0\n",
      " sqft_living_iqr upper outlier cutoff: 5910.0\n"
     ]
    }
   ],
   "source": [
    "#Find our IQR\n",
    "sqft_living_iqr = df['sqft_living'].quantile(.75)-df['sqft_living'].quantile(.25)\n",
    "#Find our Q3\n",
    "sqft_living_Q3 = df['sqft_living'].quantile(.75)\n",
    "#Multiply IQR by 1.5 to establish outlier cutoff\n",
    "sqft_living_upperoutlier_cutoff = (sqft_living_iqr *3) + sqft_living_Q3\n",
    "print(f' sqft_living_iqr IQR: {sqft_living_iqr}')\n",
    "print(f' sqft_living_iqr upper outlier cutoff: {sqft_living_upperoutlier_cutoff}')"
   ]
  },
  {
   "cell_type": "code",
   "execution_count": 23,
   "metadata": {},
   "outputs": [
    {
     "name": "stdout",
     "output_type": "stream",
     "text": [
      "We removed 74 outliers from sqft_living\n"
     ]
    }
   ],
   "source": [
    "#Create a new df with sqft_living upper outliers removed\n",
    "df_outliers_removed = df[df['sqft_living'] <= sqft_living_upperoutlier_cutoff]\n",
    "print(f'We removed {len(df[\"sqft_living\"])-len(df_outliers_removed[\"sqft_living\"])} outliers from sqft_living')"
   ]
  },
  {
   "cell_type": "code",
   "execution_count": 24,
   "metadata": {},
   "outputs": [
    {
     "data": {
      "text/html": [
       "<table class=\"simpletable\">\n",
       "<caption>OLS Regression Results</caption>\n",
       "<tr>\n",
       "  <th>Dep. Variable:</th>          <td>price</td>      <th>  R-squared:         </th>  <td>   0.461</td>  \n",
       "</tr>\n",
       "<tr>\n",
       "  <th>Model:</th>                   <td>OLS</td>       <th>  Adj. R-squared:    </th>  <td>   0.460</td>  \n",
       "</tr>\n",
       "<tr>\n",
       "  <th>Method:</th>             <td>Least Squares</td>  <th>  F-statistic:       </th>  <td>1.837e+04</td> \n",
       "</tr>\n",
       "<tr>\n",
       "  <th>Date:</th>             <td>Tue, 21 Jun 2022</td> <th>  Prob (F-statistic):</th>   <td>  0.00</td>   \n",
       "</tr>\n",
       "<tr>\n",
       "  <th>Time:</th>                 <td>15:19:46</td>     <th>  Log-Likelihood:    </th> <td>-2.9782e+05</td>\n",
       "</tr>\n",
       "<tr>\n",
       "  <th>No. Observations:</th>      <td> 21523</td>      <th>  AIC:               </th>  <td>5.956e+05</td> \n",
       "</tr>\n",
       "<tr>\n",
       "  <th>Df Residuals:</th>          <td> 21521</td>      <th>  BIC:               </th>  <td>5.957e+05</td> \n",
       "</tr>\n",
       "<tr>\n",
       "  <th>Df Model:</th>              <td>     1</td>      <th>                     </th>      <td> </td>     \n",
       "</tr>\n",
       "<tr>\n",
       "  <th>Covariance Type:</th>      <td>nonrobust</td>    <th>                     </th>      <td> </td>     \n",
       "</tr>\n",
       "</table>\n",
       "<table class=\"simpletable\">\n",
       "<tr>\n",
       "       <td></td>          <th>coef</th>     <th>std err</th>      <th>t</th>      <th>P>|t|</th>  <th>[0.025</th>    <th>0.975]</th>  \n",
       "</tr>\n",
       "<tr>\n",
       "  <th>Intercept</th>   <td>-9633.6564</td> <td> 4345.922</td> <td>   -2.217</td> <td> 0.027</td> <td>-1.82e+04</td> <td>-1115.326</td>\n",
       "</tr>\n",
       "<tr>\n",
       "  <th>sqft_living</th> <td>  263.1498</td> <td>    1.942</td> <td>  135.538</td> <td> 0.000</td> <td>  259.344</td> <td>  266.955</td>\n",
       "</tr>\n",
       "</table>\n",
       "<table class=\"simpletable\">\n",
       "<tr>\n",
       "  <th>Omnibus:</th>       <td>11403.148</td> <th>  Durbin-Watson:     </th>  <td>   1.977</td> \n",
       "</tr>\n",
       "<tr>\n",
       "  <th>Prob(Omnibus):</th>  <td> 0.000</td>   <th>  Jarque-Bera (JB):  </th> <td>156454.040</td>\n",
       "</tr>\n",
       "<tr>\n",
       "  <th>Skew:</th>           <td> 2.238</td>   <th>  Prob(JB):          </th>  <td>    0.00</td> \n",
       "</tr>\n",
       "<tr>\n",
       "  <th>Kurtosis:</th>       <td>15.426</td>   <th>  Cond. No.          </th>  <td>5.77e+03</td> \n",
       "</tr>\n",
       "</table><br/><br/>Notes:<br/>[1] Standard Errors assume that the covariance matrix of the errors is correctly specified.<br/>[2] The condition number is large, 5.77e+03. This might indicate that there are<br/>strong multicollinearity or other numerical problems."
      ],
      "text/plain": [
       "<class 'statsmodels.iolib.summary.Summary'>\n",
       "\"\"\"\n",
       "                            OLS Regression Results                            \n",
       "==============================================================================\n",
       "Dep. Variable:                  price   R-squared:                       0.461\n",
       "Model:                            OLS   Adj. R-squared:                  0.460\n",
       "Method:                 Least Squares   F-statistic:                 1.837e+04\n",
       "Date:                Tue, 21 Jun 2022   Prob (F-statistic):               0.00\n",
       "Time:                        15:19:46   Log-Likelihood:            -2.9782e+05\n",
       "No. Observations:               21523   AIC:                         5.956e+05\n",
       "Df Residuals:                   21521   BIC:                         5.957e+05\n",
       "Df Model:                           1                                         \n",
       "Covariance Type:            nonrobust                                         \n",
       "===============================================================================\n",
       "                  coef    std err          t      P>|t|      [0.025      0.975]\n",
       "-------------------------------------------------------------------------------\n",
       "Intercept   -9633.6564   4345.922     -2.217      0.027   -1.82e+04   -1115.326\n",
       "sqft_living   263.1498      1.942    135.538      0.000     259.344     266.955\n",
       "==============================================================================\n",
       "Omnibus:                    11403.148   Durbin-Watson:                   1.977\n",
       "Prob(Omnibus):                  0.000   Jarque-Bera (JB):           156454.040\n",
       "Skew:                           2.238   Prob(JB):                         0.00\n",
       "Kurtosis:                      15.426   Cond. No.                     5.77e+03\n",
       "==============================================================================\n",
       "\n",
       "Notes:\n",
       "[1] Standard Errors assume that the covariance matrix of the errors is correctly specified.\n",
       "[2] The condition number is large, 5.77e+03. This might indicate that there are\n",
       "strong multicollinearity or other numerical problems.\n",
       "\"\"\""
      ]
     },
     "execution_count": 24,
     "metadata": {},
     "output_type": "execute_result"
    }
   ],
   "source": [
    "refined_model_1 = ols('price ~ sqft_living',df_outliers_removed).fit()\n",
    "refined_model_1_summary = refined_model_1.summary()\n",
    "refined_model_1_summary"
   ]
  },
  {
   "cell_type": "markdown",
   "metadata": {},
   "source": [
    "#### Model 2: Analysis\n",
    "- We failed to improve our model\n",
    "- Next, we will try to remove lower outliers in `'sqft_living'`"
   ]
  },
  {
   "cell_type": "code",
   "execution_count": 25,
   "metadata": {},
   "outputs": [
    {
     "name": "stdout",
     "output_type": "stream",
     "text": [
      "Simple R-squared 0.49\n",
      "Simple P-Value 0.0\n",
      "Simple Price standard error 4410.0\n",
      "Simple sqft_living coef 281.0\n",
      "refined_model_1 R-squared 0.46\n",
      "refined_model_1 P-Value 0.0\n",
      "refined_model_1 Price standard error 4346.0\n",
      "refined_model_1 sqft_living coef 263.0\n"
     ]
    }
   ],
   "source": [
    "print(f'Simple R-squared {round(simple_model.rsquared,2)}')\n",
    "print(f'Simple P-Value {simple_model.f_pvalue}')\n",
    "print(f'Simple Price standard error {round(simple_model.bse,0)[0]}')\n",
    "print(f'Simple sqft_living coef {round(simple_model.params[1])}')\n",
    "\n",
    "print(f'refined_model_1 R-squared {round(refined_model_1.rsquared,2)}')\n",
    "print(f'refined_model_1 P-Value {refined_model_1.f_pvalue}')\n",
    "print(f'refined_model_1 Price standard error {round(refined_model_1.bse,0)[0]}')\n",
    "print(f'refined_model_1 sqft_living coef {round(refined_model_1.params[1])}')\n"
   ]
  },
  {
   "cell_type": "code",
   "execution_count": 26,
   "metadata": {},
   "outputs": [
    {
     "data": {
      "image/png": "[encoded data removed]",
      "text/plain": [
       "<Figure size 1080x360 with 2 Axes>"
      ]
     },
     "metadata": {},
     "output_type": "display_data"
    },
    {
     "data": {
      "image/png": "[encoded data removed]",
      "text/plain": [
       "<Figure size 432x288 with 1 Axes>"
      ]
     },
     "metadata": {},
     "output_type": "display_data"
    }
   ],
   "source": [
    "resid_refined_model_1 = refined_model_1.resid\n",
    "\n",
    "fig, ax = plt.subplots(1,2,figsize=(15, 5))\n",
    "ax[0].scatter(x=refined_model_1.fittedvalues,y=resid_refined_model_1)\n",
    "ax[0].set_xlabel(\"Predicted Values\")\n",
    "ax[0].set_ylabel(\"Residual Error\")\n",
    "ax[0].set_title(label=\"Test for Homoscedasticity\")\n",
    "\n",
    "\n",
    "ax[1].hist(resid_refined_model_1)\n",
    "ax[1].set_xlabel(\"Residual Error\")\n",
    "ax[1].set_ylabel(\"Count\")\n",
    "ax[1].set_title(label=\"Histogram of Residual Error\");\n",
    "\n",
    "import statsmodels.api as sm\n",
    "plt.style.use('ggplot')\n",
    "fig = sm.graphics.qqplot(resid_refined_model_1, dist=stats.norm, line='45', fit=True)"
   ]
  },
  {
   "cell_type": "markdown",
   "metadata": {},
   "source": [
    "### Model 3: Remove lower outliers in `'sqft_living'`"
   ]
  },
  {
   "cell_type": "code",
   "execution_count": 27,
   "metadata": {},
   "outputs": [
    {
     "name": "stdout",
     "output_type": "stream",
     "text": [
      " sqft_living_iqr IQR: 1120.0\n",
      " sqft_living_iqr upper outlier cutoff: 4230.0\n",
      " sqft_living_iqr lower outlier cutoff: 750\n"
     ]
    }
   ],
   "source": [
    "#Find our IQR\n",
    "sqft_living_iqr = df['sqft_living'].quantile(.75)-df['sqft_living'].quantile(.25)\n",
    "#Find our Q3\n",
    "sqft_living_Q3 = df['sqft_living'].quantile(.75)\n",
    "#Multiply IQR by 1.5 to establish outlier cutoff\n",
    "sqft_living_upperoutlier_cutoff = (sqft_living_iqr *1.5) + sqft_living_Q3\n",
    "#Remove lower outliers beneath 750 sqft_living\n",
    "sqft_living_loweroutlier_cutoff = 750\n",
    "print(f' sqft_living_iqr IQR: {sqft_living_iqr}')\n",
    "print(f' sqft_living_iqr upper outlier cutoff: {sqft_living_upperoutlier_cutoff}')\n",
    "print(f' sqft_living_iqr lower outlier cutoff: {sqft_living_loweroutlier_cutoff}')"
   ]
  },
  {
   "cell_type": "code",
   "execution_count": 28,
   "metadata": {},
   "outputs": [
    {
     "name": "stdout",
     "output_type": "stream",
     "text": [
      "We removed 851 outliers from sqft_living\n"
     ]
    }
   ],
   "source": [
    "#Create a new df with sqft_living lower & upper outliers removed\n",
    "df_outliers_removed = df[(df['sqft_living'] <= sqft_living_upperoutlier_cutoff) & (df['sqft_living'] >= sqft_living_loweroutlier_cutoff)]\n",
    "print(f'We removed {len(df[\"sqft_living\"])-len(df_outliers_removed[\"sqft_living\"])} outliers from sqft_living')"
   ]
  },
  {
   "cell_type": "code",
   "execution_count": 29,
   "metadata": {},
   "outputs": [
    {
     "data": {
      "text/html": [
       "<table class=\"simpletable\">\n",
       "<caption>OLS Regression Results</caption>\n",
       "<tr>\n",
       "  <th>Dep. Variable:</th>          <td>price</td>      <th>  R-squared:         </th>  <td>   0.390</td>  \n",
       "</tr>\n",
       "<tr>\n",
       "  <th>Model:</th>                   <td>OLS</td>       <th>  Adj. R-squared:    </th>  <td>   0.390</td>  \n",
       "</tr>\n",
       "<tr>\n",
       "  <th>Method:</th>             <td>Least Squares</td>  <th>  F-statistic:       </th>  <td>1.326e+04</td> \n",
       "</tr>\n",
       "<tr>\n",
       "  <th>Date:</th>             <td>Tue, 21 Jun 2022</td> <th>  Prob (F-statistic):</th>   <td>  0.00</td>   \n",
       "</tr>\n",
       "<tr>\n",
       "  <th>Time:</th>                 <td>15:19:46</td>     <th>  Log-Likelihood:    </th> <td>-2.8482e+05</td>\n",
       "</tr>\n",
       "<tr>\n",
       "  <th>No. Observations:</th>      <td> 20746</td>      <th>  AIC:               </th>  <td>5.697e+05</td> \n",
       "</tr>\n",
       "<tr>\n",
       "  <th>Df Residuals:</th>          <td> 20744</td>      <th>  BIC:               </th>  <td>5.697e+05</td> \n",
       "</tr>\n",
       "<tr>\n",
       "  <th>Df Model:</th>              <td>     1</td>      <th>                     </th>      <td> </td>     \n",
       "</tr>\n",
       "<tr>\n",
       "  <th>Covariance Type:</th>      <td>nonrobust</td>    <th>                     </th>      <td> </td>     \n",
       "</tr>\n",
       "</table>\n",
       "<table class=\"simpletable\">\n",
       "<tr>\n",
       "       <td></td>          <th>coef</th>     <th>std err</th>      <th>t</th>      <th>P>|t|</th>  <th>[0.025</th>    <th>0.975]</th>  \n",
       "</tr>\n",
       "<tr>\n",
       "  <th>Intercept</th>   <td> 4.094e+04</td> <td> 4381.935</td> <td>    9.343</td> <td> 0.000</td> <td> 3.23e+04</td> <td> 4.95e+04</td>\n",
       "</tr>\n",
       "<tr>\n",
       "  <th>sqft_living</th> <td>  234.1656</td> <td>    2.033</td> <td>  115.166</td> <td> 0.000</td> <td>  230.180</td> <td>  238.151</td>\n",
       "</tr>\n",
       "</table>\n",
       "<table class=\"simpletable\">\n",
       "<tr>\n",
       "  <th>Omnibus:</th>       <td>9334.925</td> <th>  Durbin-Watson:     </th> <td>   1.972</td> \n",
       "</tr>\n",
       "<tr>\n",
       "  <th>Prob(Omnibus):</th>  <td> 0.000</td>  <th>  Jarque-Bera (JB):  </th> <td>86290.718</td>\n",
       "</tr>\n",
       "<tr>\n",
       "  <th>Skew:</th>           <td> 1.935</td>  <th>  Prob(JB):          </th> <td>    0.00</td> \n",
       "</tr>\n",
       "<tr>\n",
       "  <th>Kurtosis:</th>       <td>12.211</td>  <th>  Cond. No.          </th> <td>6.13e+03</td> \n",
       "</tr>\n",
       "</table><br/><br/>Notes:<br/>[1] Standard Errors assume that the covariance matrix of the errors is correctly specified.<br/>[2] The condition number is large, 6.13e+03. This might indicate that there are<br/>strong multicollinearity or other numerical problems."
      ],
      "text/plain": [
       "<class 'statsmodels.iolib.summary.Summary'>\n",
       "\"\"\"\n",
       "                            OLS Regression Results                            \n",
       "==============================================================================\n",
       "Dep. Variable:                  price   R-squared:                       0.390\n",
       "Model:                            OLS   Adj. R-squared:                  0.390\n",
       "Method:                 Least Squares   F-statistic:                 1.326e+04\n",
       "Date:                Tue, 21 Jun 2022   Prob (F-statistic):               0.00\n",
       "Time:                        15:19:46   Log-Likelihood:            -2.8482e+05\n",
       "No. Observations:               20746   AIC:                         5.697e+05\n",
       "Df Residuals:                   20744   BIC:                         5.697e+05\n",
       "Df Model:                           1                                         \n",
       "Covariance Type:            nonrobust                                         \n",
       "===============================================================================\n",
       "                  coef    std err          t      P>|t|      [0.025      0.975]\n",
       "-------------------------------------------------------------------------------\n",
       "Intercept    4.094e+04   4381.935      9.343      0.000    3.23e+04    4.95e+04\n",
       "sqft_living   234.1656      2.033    115.166      0.000     230.180     238.151\n",
       "==============================================================================\n",
       "Omnibus:                     9334.925   Durbin-Watson:                   1.972\n",
       "Prob(Omnibus):                  0.000   Jarque-Bera (JB):            86290.718\n",
       "Skew:                           1.935   Prob(JB):                         0.00\n",
       "Kurtosis:                      12.211   Cond. No.                     6.13e+03\n",
       "==============================================================================\n",
       "\n",
       "Notes:\n",
       "[1] Standard Errors assume that the covariance matrix of the errors is correctly specified.\n",
       "[2] The condition number is large, 6.13e+03. This might indicate that there are\n",
       "strong multicollinearity or other numerical problems.\n",
       "\"\"\""
      ]
     },
     "execution_count": 29,
     "metadata": {},
     "output_type": "execute_result"
    }
   ],
   "source": [
    "#Re-run our new model\n",
    "refined_model_2 = ols('price ~ sqft_living',df_outliers_removed).fit()\n",
    "refined_model_2_summary = refined_model_2.summary()\n",
    "refined_model_2_summary"
   ]
  },
  {
   "cell_type": "markdown",
   "metadata": {},
   "source": [
    "#### Model 3: Analysis\n",
    "- We failed to improve our model\n",
    "- Next, we will try to add additional variables"
   ]
  },
  {
   "cell_type": "code",
   "execution_count": 30,
   "metadata": {},
   "outputs": [
    {
     "name": "stdout",
     "output_type": "stream",
     "text": [
      "Simple R-squared 0.49\n",
      "Simple P-Value 0.0\n",
      "Simple Price standard error 4410.0\n",
      "Simple sqft_living coef 281.0\n",
      "refined_model_1 R-squared 0.46\n",
      "refined_model_1 P-Value 0.0\n",
      "refined_model_1 Price standard error 4346.0\n",
      "refined_model_1 sqft_living coef 263.0\n",
      "refined_model_2 R-squared 0.39\n",
      "refined_model_2 P-Value 0.0\n",
      "refined_model_2 Price standard error 4382.0\n",
      "refined_model_2 sqft_living coef 234.0\n"
     ]
    }
   ],
   "source": [
    "print(f'Simple R-squared {round(simple_model.rsquared,2)}')\n",
    "print(f'Simple P-Value {simple_model.f_pvalue}')\n",
    "print(f'Simple Price standard error {round(simple_model.bse,0)[0]}')\n",
    "print(f'Simple sqft_living coef {round(simple_model.params[1])}')\n",
    "\n",
    "print(f'refined_model_1 R-squared {round(refined_model_1.rsquared,2)}')\n",
    "print(f'refined_model_1 P-Value {refined_model_1.f_pvalue}')\n",
    "print(f'refined_model_1 Price standard error {round(refined_model_1.bse,0)[0]}')\n",
    "print(f'refined_model_1 sqft_living coef {round(refined_model_1.params[1])}')\n",
    "\n",
    "print(f'refined_model_2 R-squared {round(refined_model_2.rsquared,2)}')\n",
    "print(f'refined_model_2 P-Value {refined_model_2.f_pvalue}')\n",
    "print(f'refined_model_2 Price standard error {round(refined_model_2.bse,0)[0]}')\n",
    "print(f'refined_model_2 sqft_living coef {round(refined_model_2.params[1])}')"
   ]
  },
  {
   "cell_type": "code",
   "execution_count": 31,
   "metadata": {},
   "outputs": [
    {
     "data": {
      "image/png": "[encoded data removed]",
      "text/plain": [
       "<Figure size 1080x360 with 2 Axes>"
      ]
     },
     "metadata": {},
     "output_type": "display_data"
    },
    {
     "data": {
      "image/png": "[encoded data removed]",
      "text/plain": [
       "<Figure size 432x288 with 1 Axes>"
      ]
     },
     "metadata": {},
     "output_type": "display_data"
    }
   ],
   "source": [
    "resid_refined_model_2 = refined_model_2.resid\n",
    "\n",
    "fig, ax = plt.subplots(1,2,figsize=(15, 5))\n",
    "ax[0].scatter(x=refined_model_2.fittedvalues,y=resid_refined_model_2)\n",
    "ax[0].set_xlabel(\"Predicted Values\")\n",
    "ax[0].set_ylabel(\"Residual Error\")\n",
    "ax[0].set_title(label=\"Test for Homoscedasticity\")\n",
    "\n",
    "\n",
    "ax[1].hist(resid_refined_model_2)\n",
    "ax[1].set_xlabel(\"Residual Error\")\n",
    "ax[1].set_ylabel(\"Count\")\n",
    "ax[1].set_title(label=\"Histogram of Residual Error\");\n",
    "\n",
    "import statsmodels.api as sm\n",
    "plt.style.use('ggplot')\n",
    "fig = sm.graphics.qqplot(resid_refined_model_2, dist=stats.norm, line='45', fit=True)"
   ]
  },
  {
   "cell_type": "markdown",
   "metadata": {},
   "source": [
    "### Model 4: Multi-variable linear regressions 1\n"
   ]
  },
  {
   "cell_type": "code",
   "execution_count": 70,
   "metadata": {},
   "outputs": [],
   "source": [
    "#Create a list of our numeric columns\n",
    "df_numeric = df[['price','bedrooms','bathrooms','sqft_living','sqft_lot','floors','sqft_above','sqft_basement2','yr_built','yr_renovated','sqft_living15','sqft_lot15']]"
   ]
  },
  {
   "cell_type": "code",
   "execution_count": 67,
   "metadata": {},
   "outputs": [
    {
     "data": {
      "text/plain": [
       "LinearRegression()"
      ]
     },
     "execution_count": 67,
     "metadata": {},
     "output_type": "execute_result"
    }
   ],
   "source": [
    "#Test up train-test split\n",
    "from sklearn.model_selection import train_test_split\n",
    "from sklearn.linear_model import LinearRegression\n",
    "\n",
    "X = df.drop(columns=['price'])\n",
    "y = df['price']\n",
    "X_train, X_test, y_train, y_test = train_test_split(X, y, test_size=0.20, random_state=42)\n",
    "\n",
    "#Subset to numeric columns\n",
    "X_train_numeric = X_train[['bedrooms','bathrooms','sqft_living','sqft_lot','floors','sqft_above','sqft_basement2','yr_built','yr_renovated','sqft_living15','sqft_lot15']]\n",
    "X_test_numeric = X_test[['bedrooms','bathrooms','sqft_living','sqft_lot','floors','sqft_above','sqft_basement2','yr_built','yr_renovated','sqft_living15','sqft_lot15']]\n",
    "\n",
    "#Fit model\n",
    "lr = LinearRegression()\n",
    "lr.fit(X_train_numeric,y_train)"
   ]
  },
  {
   "cell_type": "code",
   "execution_count": 45,
   "metadata": {},
   "outputs": [
    {
     "data": {
      "text/html": [
       "<table class=\"simpletable\">\n",
       "<caption>OLS Regression Results</caption>\n",
       "<tr>\n",
       "  <th>Dep. Variable:</th>          <td>price</td>      <th>  R-squared:         </th>  <td>   0.571</td>  \n",
       "</tr>\n",
       "<tr>\n",
       "  <th>Model:</th>                   <td>OLS</td>       <th>  Adj. R-squared:    </th>  <td>   0.571</td>  \n",
       "</tr>\n",
       "<tr>\n",
       "  <th>Method:</th>             <td>Least Squares</td>  <th>  F-statistic:       </th>  <td>   2877.</td>  \n",
       "</tr>\n",
       "<tr>\n",
       "  <th>Date:</th>             <td>Tue, 21 Jun 2022</td> <th>  Prob (F-statistic):</th>   <td>  0.00</td>   \n",
       "</tr>\n",
       "<tr>\n",
       "  <th>Time:</th>                 <td>15:32:04</td>     <th>  Log-Likelihood:    </th> <td>-2.9824e+05</td>\n",
       "</tr>\n",
       "<tr>\n",
       "  <th>No. Observations:</th>      <td> 21597</td>      <th>  AIC:               </th>  <td>5.965e+05</td> \n",
       "</tr>\n",
       "<tr>\n",
       "  <th>Df Residuals:</th>          <td> 21586</td>      <th>  BIC:               </th>  <td>5.966e+05</td> \n",
       "</tr>\n",
       "<tr>\n",
       "  <th>Df Model:</th>              <td>    10</td>      <th>                     </th>      <td> </td>     \n",
       "</tr>\n",
       "<tr>\n",
       "  <th>Covariance Type:</th>      <td>nonrobust</td>    <th>                     </th>      <td> </td>     \n",
       "</tr>\n",
       "</table>\n",
       "<table class=\"simpletable\">\n",
       "<tr>\n",
       "         <td></td>           <th>coef</th>     <th>std err</th>      <th>t</th>      <th>P>|t|</th>  <th>[0.025</th>    <th>0.975]</th>  \n",
       "</tr>\n",
       "<tr>\n",
       "  <th>const</th>          <td> 6.749e+06</td> <td> 1.42e+05</td> <td>   47.407</td> <td> 0.000</td> <td> 6.47e+06</td> <td> 7.03e+06</td>\n",
       "</tr>\n",
       "<tr>\n",
       "  <th>bedrooms</th>       <td> -7.17e+04</td> <td> 2312.793</td> <td>  -31.000</td> <td> 0.000</td> <td>-7.62e+04</td> <td>-6.72e+04</td>\n",
       "</tr>\n",
       "<tr>\n",
       "  <th>bathrooms</th>      <td> 6.939e+04</td> <td> 3885.938</td> <td>   17.858</td> <td> 0.000</td> <td> 6.18e+04</td> <td>  7.7e+04</td>\n",
       "</tr>\n",
       "<tr>\n",
       "  <th>sqft_living</th>    <td>  170.8617</td> <td>    2.534</td> <td>   67.429</td> <td> 0.000</td> <td>  165.895</td> <td>  175.828</td>\n",
       "</tr>\n",
       "<tr>\n",
       "  <th>sqft_lot</th>       <td>    0.0171</td> <td>    0.057</td> <td>    0.300</td> <td> 0.764</td> <td>   -0.095</td> <td>    0.129</td>\n",
       "</tr>\n",
       "<tr>\n",
       "  <th>floors</th>         <td> 5.762e+04</td> <td> 4165.444</td> <td>   13.833</td> <td> 0.000</td> <td> 4.95e+04</td> <td> 6.58e+04</td>\n",
       "</tr>\n",
       "<tr>\n",
       "  <th>sqft_above</th>     <td>   80.2730</td> <td>    2.512</td> <td>   31.953</td> <td> 0.000</td> <td>   75.349</td> <td>   85.197</td>\n",
       "</tr>\n",
       "<tr>\n",
       "  <th>sqft_basement2</th> <td>   90.5884</td> <td>    3.022</td> <td>   29.980</td> <td> 0.000</td> <td>   84.666</td> <td>   96.511</td>\n",
       "</tr>\n",
       "<tr>\n",
       "  <th>yr_built</th>       <td>-4060.0177</td> <td>  149.684</td> <td>  -27.124</td> <td> 0.000</td> <td>-4353.409</td> <td>-3766.626</td>\n",
       "</tr>\n",
       "<tr>\n",
       "  <th>yr_renovated</th>   <td>  557.7351</td> <td>  153.904</td> <td>    3.624</td> <td> 0.000</td> <td>  256.071</td> <td>  859.399</td>\n",
       "</tr>\n",
       "<tr>\n",
       "  <th>sqft_living15</th>  <td>   93.2614</td> <td>    3.802</td> <td>   24.527</td> <td> 0.000</td> <td>   85.808</td> <td>  100.714</td>\n",
       "</tr>\n",
       "<tr>\n",
       "  <th>sqft_lot15</th>     <td>   -0.7104</td> <td>    0.087</td> <td>   -8.148</td> <td> 0.000</td> <td>   -0.881</td> <td>   -0.540</td>\n",
       "</tr>\n",
       "</table>\n",
       "<table class=\"simpletable\">\n",
       "<tr>\n",
       "  <th>Omnibus:</th>       <td>15337.085</td> <th>  Durbin-Watson:     </th>  <td>   1.985</td> \n",
       "</tr>\n",
       "<tr>\n",
       "  <th>Prob(Omnibus):</th>  <td> 0.000</td>   <th>  Jarque-Bera (JB):  </th> <td>697216.743</td>\n",
       "</tr>\n",
       "<tr>\n",
       "  <th>Skew:</th>           <td> 2.901</td>   <th>  Prob(JB):          </th>  <td>    0.00</td> \n",
       "</tr>\n",
       "<tr>\n",
       "  <th>Kurtosis:</th>       <td>30.224</td>   <th>  Cond. No.          </th>  <td>7.25e+15</td> \n",
       "</tr>\n",
       "</table><br/><br/>Notes:<br/>[1] Standard Errors assume that the covariance matrix of the errors is correctly specified.<br/>[2] The smallest eigenvalue is 1.05e-18. This might indicate that there are<br/>strong multicollinearity problems or that the design matrix is singular."
      ],
      "text/plain": [
       "<class 'statsmodels.iolib.summary.Summary'>\n",
       "\"\"\"\n",
       "                            OLS Regression Results                            \n",
       "==============================================================================\n",
       "Dep. Variable:                  price   R-squared:                       0.571\n",
       "Model:                            OLS   Adj. R-squared:                  0.571\n",
       "Method:                 Least Squares   F-statistic:                     2877.\n",
       "Date:                Tue, 21 Jun 2022   Prob (F-statistic):               0.00\n",
       "Time:                        15:32:04   Log-Likelihood:            -2.9824e+05\n",
       "No. Observations:               21597   AIC:                         5.965e+05\n",
       "Df Residuals:                   21586   BIC:                         5.966e+05\n",
       "Df Model:                          10                                         \n",
       "Covariance Type:            nonrobust                                         \n",
       "==================================================================================\n",
       "                     coef    std err          t      P>|t|      [0.025      0.975]\n",
       "----------------------------------------------------------------------------------\n",
       "const           6.749e+06   1.42e+05     47.407      0.000    6.47e+06    7.03e+06\n",
       "bedrooms        -7.17e+04   2312.793    -31.000      0.000   -7.62e+04   -6.72e+04\n",
       "bathrooms       6.939e+04   3885.938     17.858      0.000    6.18e+04     7.7e+04\n",
       "sqft_living      170.8617      2.534     67.429      0.000     165.895     175.828\n",
       "sqft_lot           0.0171      0.057      0.300      0.764      -0.095       0.129\n",
       "floors          5.762e+04   4165.444     13.833      0.000    4.95e+04    6.58e+04\n",
       "sqft_above        80.2730      2.512     31.953      0.000      75.349      85.197\n",
       "sqft_basement2    90.5884      3.022     29.980      0.000      84.666      96.511\n",
       "yr_built       -4060.0177    149.684    -27.124      0.000   -4353.409   -3766.626\n",
       "yr_renovated     557.7351    153.904      3.624      0.000     256.071     859.399\n",
       "sqft_living15     93.2614      3.802     24.527      0.000      85.808     100.714\n",
       "sqft_lot15        -0.7104      0.087     -8.148      0.000      -0.881      -0.540\n",
       "==============================================================================\n",
       "Omnibus:                    15337.085   Durbin-Watson:                   1.985\n",
       "Prob(Omnibus):                  0.000   Jarque-Bera (JB):           697216.743\n",
       "Skew:                           2.901   Prob(JB):                         0.00\n",
       "Kurtosis:                      30.224   Cond. No.                     7.25e+15\n",
       "==============================================================================\n",
       "\n",
       "Notes:\n",
       "[1] Standard Errors assume that the covariance matrix of the errors is correctly specified.\n",
       "[2] The smallest eigenvalue is 1.05e-18. This might indicate that there are\n",
       "strong multicollinearity problems or that the design matrix is singular.\n",
       "\"\"\""
      ]
     },
     "execution_count": 45,
     "metadata": {},
     "output_type": "execute_result"
    }
   ],
   "source": [
    "#Run multi-variable model using numeric columns\n",
    "endog = df_numeric['price']\n",
    "exog = sm.add_constant(df_numeric.drop(columns=['price']))\n",
    "\n",
    "multi_model_1 = sm.OLS(endog, exog).fit()\n",
    "multi_model_1_summary = multi_model_1.summary()\n",
    "multi_model_1_summary"
   ]
  },
  {
   "cell_type": "code",
   "execution_count": 103,
   "metadata": {},
   "outputs": [],
   "source": [
    "#Try scaling coeficients\n",
    "#Import standard scaler\n",
    "from sklearn.preprocessing import StandardScaler\n",
    "\n",
    "#Scale our exogenous variables\n",
    "ss = StandardScaler()\n",
    "ss.fit(df_numeric.drop(columns=['price']))\n",
    "X_scaled = ss.transform(df_numeric.drop(columns=['price']))\n",
    "\n",
    "#Create dataframe with columns titles\n",
    "X_scaled_df = pd.DataFrame(X_scaled)\n",
    "X_scaled_df.columns = list(df_numeric.drop(columns=['price']).columns)"
   ]
  },
  {
   "cell_type": "code",
   "execution_count": 104,
   "metadata": {},
   "outputs": [
    {
     "data": {
      "text/html": [
       "<table class=\"simpletable\">\n",
       "<caption>OLS Regression Results</caption>\n",
       "<tr>\n",
       "  <th>Dep. Variable:</th>          <td>price</td>      <th>  R-squared:         </th>  <td>   0.571</td>  \n",
       "</tr>\n",
       "<tr>\n",
       "  <th>Model:</th>                   <td>OLS</td>       <th>  Adj. R-squared:    </th>  <td>   0.571</td>  \n",
       "</tr>\n",
       "<tr>\n",
       "  <th>Method:</th>             <td>Least Squares</td>  <th>  F-statistic:       </th>  <td>   2876.</td>  \n",
       "</tr>\n",
       "<tr>\n",
       "  <th>Date:</th>             <td>Tue, 21 Jun 2022</td> <th>  Prob (F-statistic):</th>   <td>  0.00</td>   \n",
       "</tr>\n",
       "<tr>\n",
       "  <th>Time:</th>                 <td>14:37:16</td>     <th>  Log-Likelihood:    </th> <td>-2.9825e+05</td>\n",
       "</tr>\n",
       "<tr>\n",
       "  <th>No. Observations:</th>      <td> 21597</td>      <th>  AIC:               </th>  <td>5.965e+05</td> \n",
       "</tr>\n",
       "<tr>\n",
       "  <th>Df Residuals:</th>          <td> 21586</td>      <th>  BIC:               </th>  <td>5.966e+05</td> \n",
       "</tr>\n",
       "<tr>\n",
       "  <th>Df Model:</th>              <td>    10</td>      <th>                     </th>      <td> </td>     \n",
       "</tr>\n",
       "<tr>\n",
       "  <th>Covariance Type:</th>      <td>nonrobust</td>    <th>                     </th>      <td> </td>     \n",
       "</tr>\n",
       "</table>\n",
       "<table class=\"simpletable\">\n",
       "<tr>\n",
       "         <td></td>           <th>coef</th>     <th>std err</th>      <th>t</th>      <th>P>|t|</th>  <th>[0.025</th>    <th>0.975]</th>  \n",
       "</tr>\n",
       "<tr>\n",
       "  <th>const</th>          <td> 5.403e+05</td> <td> 1637.199</td> <td>  330.013</td> <td> 0.000</td> <td> 5.37e+05</td> <td> 5.44e+05</td>\n",
       "</tr>\n",
       "<tr>\n",
       "  <th>bedrooms</th>       <td>-6.635e+04</td> <td> 2982.410</td> <td>  -22.246</td> <td> 0.000</td> <td>-7.22e+04</td> <td>-6.05e+04</td>\n",
       "</tr>\n",
       "<tr>\n",
       "  <th>bathrooms</th>      <td> 5.413e+04</td> <td> 3174.940</td> <td>   17.050</td> <td> 0.000</td> <td> 4.79e+04</td> <td> 6.04e+04</td>\n",
       "</tr>\n",
       "<tr>\n",
       "  <th>sqft_living</th>    <td> 2.617e+17</td> <td> 3.64e+17</td> <td>    0.718</td> <td> 0.473</td> <td>-4.53e+17</td> <td> 9.76e+17</td>\n",
       "</tr>\n",
       "<tr>\n",
       "  <th>sqft_lot</th>       <td>  761.0692</td> <td> 2364.435</td> <td>    0.322</td> <td> 0.748</td> <td>-3873.398</td> <td> 5395.537</td>\n",
       "</tr>\n",
       "<tr>\n",
       "  <th>floors</th>         <td> 3.097e+04</td> <td> 2254.551</td> <td>   13.739</td> <td> 0.000</td> <td> 2.66e+04</td> <td> 3.54e+04</td>\n",
       "</tr>\n",
       "<tr>\n",
       "  <th>sqft_above</th>     <td> -2.36e+17</td> <td> 3.29e+17</td> <td>   -0.718</td> <td> 0.473</td> <td> -8.8e+17</td> <td> 4.08e+17</td>\n",
       "</tr>\n",
       "<tr>\n",
       "  <th>sqft_basement2</th> <td>-1.262e+17</td> <td> 1.76e+17</td> <td>   -0.718</td> <td> 0.473</td> <td>-4.71e+17</td> <td> 2.18e+17</td>\n",
       "</tr>\n",
       "<tr>\n",
       "  <th>yr_built</th>       <td>-1.194e+05</td> <td> 4401.399</td> <td>  -27.127</td> <td> 0.000</td> <td>-1.28e+05</td> <td>-1.11e+05</td>\n",
       "</tr>\n",
       "<tr>\n",
       "  <th>yr_renovated</th>   <td> 1.626e+04</td> <td> 4458.222</td> <td>    3.648</td> <td> 0.000</td> <td> 7525.816</td> <td>  2.5e+04</td>\n",
       "</tr>\n",
       "<tr>\n",
       "  <th>sqft_living15</th>  <td>  6.39e+04</td> <td> 2605.713</td> <td>   24.522</td> <td> 0.000</td> <td> 5.88e+04</td> <td>  6.9e+04</td>\n",
       "</tr>\n",
       "<tr>\n",
       "  <th>sqft_lot15</th>     <td>-1.939e+04</td> <td> 2378.444</td> <td>   -8.154</td> <td> 0.000</td> <td>-2.41e+04</td> <td>-1.47e+04</td>\n",
       "</tr>\n",
       "</table>\n",
       "<table class=\"simpletable\">\n",
       "<tr>\n",
       "  <th>Omnibus:</th>       <td>15084.750</td> <th>  Durbin-Watson:     </th>  <td>   1.985</td> \n",
       "</tr>\n",
       "<tr>\n",
       "  <th>Prob(Omnibus):</th>  <td> 0.000</td>   <th>  Jarque-Bera (JB):  </th> <td>664337.449</td>\n",
       "</tr>\n",
       "<tr>\n",
       "  <th>Skew:</th>           <td> 2.838</td>   <th>  Prob(JB):          </th>  <td>    0.00</td> \n",
       "</tr>\n",
       "<tr>\n",
       "  <th>Kurtosis:</th>       <td>29.572</td>   <th>  Cond. No.          </th>  <td>6.82e+14</td> \n",
       "</tr>\n",
       "</table><br/><br/>Notes:<br/>[1] Standard Errors assume that the covariance matrix of the errors is correctly specified.<br/>[2] The smallest eigenvalue is 2.13e-25. This might indicate that there are<br/>strong multicollinearity problems or that the design matrix is singular."
      ],
      "text/plain": [
       "<class 'statsmodels.iolib.summary.Summary'>\n",
       "\"\"\"\n",
       "                            OLS Regression Results                            \n",
       "==============================================================================\n",
       "Dep. Variable:                  price   R-squared:                       0.571\n",
       "Model:                            OLS   Adj. R-squared:                  0.571\n",
       "Method:                 Least Squares   F-statistic:                     2876.\n",
       "Date:                Tue, 21 Jun 2022   Prob (F-statistic):               0.00\n",
       "Time:                        14:37:16   Log-Likelihood:            -2.9825e+05\n",
       "No. Observations:               21597   AIC:                         5.965e+05\n",
       "Df Residuals:                   21586   BIC:                         5.966e+05\n",
       "Df Model:                          10                                         \n",
       "Covariance Type:            nonrobust                                         \n",
       "==================================================================================\n",
       "                     coef    std err          t      P>|t|      [0.025      0.975]\n",
       "----------------------------------------------------------------------------------\n",
       "const           5.403e+05   1637.199    330.013      0.000    5.37e+05    5.44e+05\n",
       "bedrooms       -6.635e+04   2982.410    -22.246      0.000   -7.22e+04   -6.05e+04\n",
       "bathrooms       5.413e+04   3174.940     17.050      0.000    4.79e+04    6.04e+04\n",
       "sqft_living     2.617e+17   3.64e+17      0.718      0.473   -4.53e+17    9.76e+17\n",
       "sqft_lot         761.0692   2364.435      0.322      0.748   -3873.398    5395.537\n",
       "floors          3.097e+04   2254.551     13.739      0.000    2.66e+04    3.54e+04\n",
       "sqft_above      -2.36e+17   3.29e+17     -0.718      0.473    -8.8e+17    4.08e+17\n",
       "sqft_basement2 -1.262e+17   1.76e+17     -0.718      0.473   -4.71e+17    2.18e+17\n",
       "yr_built       -1.194e+05   4401.399    -27.127      0.000   -1.28e+05   -1.11e+05\n",
       "yr_renovated    1.626e+04   4458.222      3.648      0.000    7525.816     2.5e+04\n",
       "sqft_living15    6.39e+04   2605.713     24.522      0.000    5.88e+04     6.9e+04\n",
       "sqft_lot15     -1.939e+04   2378.444     -8.154      0.000   -2.41e+04   -1.47e+04\n",
       "==============================================================================\n",
       "Omnibus:                    15084.750   Durbin-Watson:                   1.985\n",
       "Prob(Omnibus):                  0.000   Jarque-Bera (JB):           664337.449\n",
       "Skew:                           2.838   Prob(JB):                         0.00\n",
       "Kurtosis:                      29.572   Cond. No.                     6.82e+14\n",
       "==============================================================================\n",
       "\n",
       "Notes:\n",
       "[1] Standard Errors assume that the covariance matrix of the errors is correctly specified.\n",
       "[2] The smallest eigenvalue is 2.13e-25. This might indicate that there are\n",
       "strong multicollinearity problems or that the design matrix is singular.\n",
       "\"\"\""
      ]
     },
     "execution_count": 104,
     "metadata": {},
     "output_type": "execute_result"
    }
   ],
   "source": [
    "#Run multi-variable model\n",
    "endog = df_numeric['price']\n",
    "exog = sm.add_constant(X_scaled_df)\n",
    "\n",
    "multi_model_1 = sm.OLS(endog, exog).fit()\n",
    "multi_model_1_summary = multi_model_1.summary()\n",
    "multi_model_1_summary"
   ]
  },
  {
   "cell_type": "markdown",
   "metadata": {},
   "source": [
    "#### Model 4: Analysis\n",
    "- We improved upon our simple model\n",
    "- Our new model's variance is low\n",
    "- sqft_lot is not statistically significant\n",
    "- Next, we to remove co-linear variables"
   ]
  },
  {
   "cell_type": "code",
   "execution_count": 69,
   "metadata": {},
   "outputs": [
    {
     "name": "stdout",
     "output_type": "stream",
     "text": [
      "Simple R2 0.49\n",
      "multi_model_1 Train R2 0.57\n",
      "multi_model_1 Test R2 0.56\n"
     ]
    }
   ],
   "source": [
    "#Print results compared to our simple model\n",
    "print(f'Simple R2 {round(simple_model.rsquared,2)}')\n",
    "print(f'multi_model_1 Train R2 {round(lr.score(X_train_numeric, y_train),2)}')\n",
    "print(f'multi_model_1 Test R2 {round(lr.score(X_test_numeric, y_test),2)}')"
   ]
  },
  {
   "cell_type": "markdown",
   "metadata": {},
   "source": [
    "### Model 4: Multi-variable linear regressions 2"
   ]
  },
  {
   "cell_type": "code",
   "execution_count": 46,
   "metadata": {},
   "outputs": [
    {
     "data": {
      "image/png": "[encoded data removed]",
      "text/plain": [
       "<Figure size 1440x720 with 2 Axes>"
      ]
     },
     "metadata": {},
     "output_type": "display_data"
    }
   ],
   "source": [
    "#Explore the co-linearity of x variables\n",
    "mask = np.triu(np.ones_like(df_numeric.corr(), dtype=bool))\n",
    "\n",
    "plt.figure(figsize=(20,10))\n",
    "\n",
    "cor = df_numeric.corr().abs()\n",
    "sns.heatmap(cor, mask=mask, annot=True);"
   ]
  },
  {
   "cell_type": "markdown",
   "metadata": {},
   "source": [
    "Variable relationships with > .70 correlation, we will include just the columns from these combinations that have the stronger correlation with Price\n",
    "- sqft_above - sqft_living (drop `'sqft_above'`)\n",
    "- bathrooms - sqft_living (drop `'bathrooms'`)\n",
    "- yr_built - yr_renovated (drop `'yr_built'`)\n",
    "- sqft_living - sqft_living15 (drop `'sqft_living15'`)\n",
    "- sqft_lot - sqft_lot15 (drop `'sqft_lot15'`)\n"
   ]
  },
  {
   "cell_type": "code",
   "execution_count": 77,
   "metadata": {},
   "outputs": [],
   "source": [
    "#Create a df containing our numeric columns with co-linear columns dropped\n",
    "df_numeric_2 = df_numeric.drop(columns=['sqft_above','bathrooms','yr_built','sqft_living15','sqft_lot15'])"
   ]
  },
  {
   "cell_type": "code",
   "execution_count": 74,
   "metadata": {},
   "outputs": [
    {
     "data": {
      "text/plain": [
       "LinearRegression()"
      ]
     },
     "execution_count": 74,
     "metadata": {},
     "output_type": "execute_result"
    }
   ],
   "source": [
    "X_train_numeric_2 = X_train_numeric.drop(columns=['sqft_above','bathrooms','yr_built','sqft_living15','sqft_lot15'])\n",
    "X_test_numeric_2 = X_test_numeric.drop(columns=['sqft_above','bathrooms','yr_built','sqft_living15','sqft_lot15'])\n",
    "multi_model_2 = LinearRegression()\n",
    "multi_model_2.fit(X_train_numeric_2,y_train)"
   ]
  },
  {
   "cell_type": "code",
   "execution_count": 76,
   "metadata": {},
   "outputs": [
    {
     "name": "stdout",
     "output_type": "stream",
     "text": [
      "Simple R2 0.49\n",
      "multi_model_1 Train R2 0.57\n",
      "multi_model_1 Test R2 0.56\n",
      "multi_model_2 Train R2 0.54\n",
      "multi_model_2 Test R2 0.53\n"
     ]
    }
   ],
   "source": [
    "#Print results compared to our previous models\n",
    "print(f'Simple R2 {round(simple_model.rsquared,2)}')\n",
    "print(f'multi_model_1 Train R2 {round(lr.score(X_train_numeric, y_train),2)}')\n",
    "print(f'multi_model_1 Test R2 {round(lr.score(X_test_numeric, y_test),2)}')\n",
    "print(f'multi_model_2 Train R2 {round(multi_model_2.score(X_train_numeric_2, y_train),2)}')\n",
    "print(f'multi_model_2 Test R2 {round(multi_model_2.score(X_test_numeric_2, y_test),2)}')"
   ]
  },
  {
   "cell_type": "code",
   "execution_count": null,
   "metadata": {},
   "outputs": [],
   "source": []
  }
 ],
 "metadata": {
  "kernelspec": {
   "display_name": "Python 3",
   "language": "python",
   "name": "python3"
  },
  "language_info": {
   "codemirror_mode": {
    "name": "ipython",
    "version": 3
   },
   "file_extension": ".py",
   "mimetype": "text/x-python",
   "name": "python",
   "nbconvert_exporter": "python",
   "pygments_lexer": "ipython3",
   "version": "3.8.5"
  }
 },
 "nbformat": 4,
 "nbformat_minor": 2
}
